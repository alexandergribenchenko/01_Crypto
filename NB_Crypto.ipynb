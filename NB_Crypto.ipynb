{
  "nbformat": 4,
  "nbformat_minor": 0,
  "metadata": {
    "colab": {
      "name": "Untitled24.ipynb",
      "provenance": [],
      "authorship_tag": "ABX9TyNVPF2uj4JJbOmSsYHcmYow",
      "include_colab_link": true
    },
    "kernelspec": {
      "name": "python3",
      "display_name": "Python 3"
    },
    "language_info": {
      "name": "python"
    }
  },
  "cells": [
    {
      "cell_type": "markdown",
      "metadata": {
        "id": "view-in-github",
        "colab_type": "text"
      },
      "source": [
        "<a href=\"https://colab.research.google.com/github/alexandergribenchenko/01_Crypto/blob/main/NB_Crypto.ipynb\" target=\"_parent\"><img src=\"https://colab.research.google.com/assets/colab-badge.svg\" alt=\"Open In Colab\"/></a>"
      ]
    },
    {
      "cell_type": "markdown",
      "metadata": {
        "id": "k4PNAdk0AkvY"
      },
      "source": [
        "# Crypto Notebook"
      ]
    },
    {
      "cell_type": "code",
      "metadata": {
        "id": "CE92Yf8qAh4e"
      },
      "source": [
        ""
      ],
      "execution_count": null,
      "outputs": []
    },
    {
      "cell_type": "markdown",
      "metadata": {
        "id": "nvw15-z4CEoD"
      },
      "source": [
        ""
      ]
    },
    {
      "cell_type": "markdown",
      "metadata": {
        "id": "tDKDpluCCElV"
      },
      "source": [
        ""
      ]
    },
    {
      "cell_type": "markdown",
      "metadata": {
        "id": "_3JSAXRnCEhZ"
      },
      "source": [
        ""
      ]
    },
    {
      "cell_type": "markdown",
      "metadata": {
        "id": "yTBL1oRxCEez"
      },
      "source": [
        ""
      ]
    },
    {
      "cell_type": "markdown",
      "metadata": {
        "id": "Yed4JBWiCEcM"
      },
      "source": [
        ""
      ]
    },
    {
      "cell_type": "markdown",
      "metadata": {
        "id": "AnRMMU5vAr3_"
      },
      "source": [
        "# 01. Conceptos básicos"
      ]
    },
    {
      "cell_type": "markdown",
      "metadata": {
        "id": "Coi_fs6VAr0o"
      },
      "source": [
        "## MySQL\n",
        "\n",
        "#### Q1. When you have a subquery inside of the main query, which query is executed first?\n",
        "\n",
        "- [ ] The subquery is never executed. Only the main query is executed.\n",
        "- [ ] They are executed at the same time\n",
        "- [ ] the main query\n",
        "- [x] the subquery\n",
        "\n",
        "#### Q2. When you have a subquery inside of the main query, which query is executed first?\n",
        "\n",
        "- [ ] GATO\n",
        "- [ ] They are executed at the same time\n",
        "- [x] the main query\n",
        "- [ ] PERRO"
      ]
    },
    {
      "cell_type": "markdown",
      "metadata": {
        "id": "AaqhkOA1BwrW"
      },
      "source": [
        ""
      ]
    },
    {
      "cell_type": "code",
      "metadata": {
        "id": "fUWOL6jEBW3g"
      },
      "source": [
        ""
      ],
      "execution_count": null,
      "outputs": []
    }
  ]
}