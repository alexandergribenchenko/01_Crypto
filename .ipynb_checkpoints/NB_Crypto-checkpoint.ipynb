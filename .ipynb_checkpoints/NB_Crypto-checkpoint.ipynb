{
 "cells": [
  {
   "cell_type": "markdown",
   "metadata": {
    "colab_type": "text",
    "id": "view-in-github"
   },
   "source": [
    "<a href=\"https://colab.research.google.com/github/alexandergribenchenko/01_Crypto/blob/main/NB_Crypto.ipynb\" target=\"_parent\"><img src=\"https://colab.research.google.com/assets/colab-badge.svg\" alt=\"Open In Colab\"/></a>"
   ]
  },
  {
   "cell_type": "markdown",
   "metadata": {
    "id": "k4PNAdk0AkvY"
   },
   "source": [
    "# Crypto Notebook"
   ]
  },
  {
   "cell_type": "code",
   "execution_count": null,
   "metadata": {
    "id": "CE92Yf8qAh4e"
   },
   "outputs": [],
   "source": []
  },
  {
   "cell_type": "markdown",
   "metadata": {
    "id": "nvw15-z4CEoD"
   },
   "source": []
  },
  {
   "cell_type": "markdown",
   "metadata": {
    "id": "tDKDpluCCElV"
   },
   "source": []
  },
  {
   "cell_type": "markdown",
   "metadata": {
    "id": "_3JSAXRnCEhZ"
   },
   "source": []
  },
  {
   "cell_type": "markdown",
   "metadata": {
    "id": "yTBL1oRxCEez"
   },
   "source": []
  },
  {
   "cell_type": "markdown",
   "metadata": {
    "id": "Yed4JBWiCEcM"
   },
   "source": []
  },
  {
   "cell_type": "markdown",
   "metadata": {
    "id": "AnRMMU5vAr3_"
   },
   "source": [
    "# 01. Conceptos básicos"
   ]
  },
  {
   "cell_type": "markdown",
   "metadata": {
    "id": "VZrj2U5hC8Gu"
   },
   "source": [
    "## 01.01. tal"
   ]
  },
  {
   "cell_type": "markdown",
   "metadata": {
    "id": "A6cO9AvKDTq2"
   },
   "source": [
    "### 01.01.02. perro"
   ]
  },
  {
   "cell_type": "code",
   "execution_count": null,
   "metadata": {
    "id": "WFsI25CJDJn7"
   },
   "outputs": [],
   "source": [
    "### "
   ]
  },
  {
   "cell_type": "markdown",
   "metadata": {
    "id": "Coi_fs6VAr0o"
   },
   "source": [
    "## MySQL\n",
    "\n",
    "#### Q1. When you have a subquery inside of the main query, which query is executed first?\n",
    "\n",
    "- [ ] The subquery is never executed. Only the main query is executed.\n",
    "- [ ] They are executed at the same time\n",
    "- [ ] the main query\n",
    "- [x] the subquery\n",
    "\n",
    "#### Q2. When you have a subquery inside of the main query, which query is executed first?\n",
    "\n",
    "- [ ] GATO\n",
    "- [ ] They are executed at the same time\n",
    "- [x] the main query\n",
    "- [ ] PERRO"
   ]
  },
  {
   "cell_type": "markdown",
   "metadata": {},
   "source": [
    "# 09. Conceptos Clave"
   ]
  },
  {
   "cell_type": "markdown",
   "metadata": {},
   "source": [
    "Desde Escritorio"
   ]
  },
  {
   "cell_type": "markdown",
   "metadata": {
    "id": "AaqhkOA1BwrW"
   },
   "source": [
    "# 10. Bibliografía"
   ]
  },
  {
   "cell_type": "code",
   "execution_count": null,
   "metadata": {
    "id": "fUWOL6jEBW3g"
   },
   "outputs": [],
   "source": []
  },
  {
   "cell_type": "markdown",
   "metadata": {},
   "source": [
    "Con mi amigo gato perro [Go to the Support Web Site](https://support.west-wind.com)"
   ]
  },
  {
   "cell_type": "code",
   "execution_count": null,
   "metadata": {},
   "outputs": [],
   "source": []
  }
 ],
 "metadata": {
  "colab": {
   "authorship_tag": "ABX9TyPLvv1/VZA1qZqCVXz/71kH",
   "include_colab_link": true,
   "name": "Untitled24.ipynb",
   "provenance": [],
   "toc_visible": true
  },
  "kernelspec": {
   "display_name": "Python 3 (ipykernel)",
   "language": "python",
   "name": "python3"
  },
  "language_info": {
   "codemirror_mode": {
    "name": "ipython",
    "version": 3
   },
   "file_extension": ".py",
   "mimetype": "text/x-python",
   "name": "python",
   "nbconvert_exporter": "python",
   "pygments_lexer": "ipython3",
   "version": "3.9.7"
  }
 },
 "nbformat": 4,
 "nbformat_minor": 4
}
